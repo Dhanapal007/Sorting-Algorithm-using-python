{
 "cells": [
  {
   "cell_type": "code",
   "execution_count": null,
   "id": "be35087b",
   "metadata": {},
   "outputs": [],
   "source": [
    "INSERTION SORT"
   ]
  },
  {
   "cell_type": "code",
   "execution_count": 2,
   "id": "cf5c4047",
   "metadata": {},
   "outputs": [
    {
     "name": "stdout",
     "output_type": "stream",
     "text": [
      "How many numbers you want:5\n",
      "Enter the numbers:85\n",
      "Enter the numbers:78\n",
      "Enter the numbers:41\n",
      "Enter the numbers:54\n",
      "Enter the numbers:5\n",
      "unsorted list [85, 78, 41, 54, 5]\n",
      "sorted list [5, 41, 54, 78, 85]\n"
     ]
    }
   ],
   "source": [
    "n=int(input(\"How many numbers you want:\"))\n",
    "list=[int(input(\"Enter the numbers:\"))for i in range(n)]\n",
    "print(\"unsorted list\",list)\n",
    "for i in range(len(list)):\n",
    "    a=min(list[i:])\n",
    "    b=list.index(a)\n",
    "    list[i],list[b] = list[b],list[i]\n",
    "print(\"sorted list\",list)"
   ]
  },
  {
   "cell_type": "code",
   "execution_count": null,
   "id": "4a8320d8",
   "metadata": {},
   "outputs": [],
   "source": []
  }
 ],
 "metadata": {
  "kernelspec": {
   "display_name": "Python 3 (ipykernel)",
   "language": "python",
   "name": "python3"
  },
  "language_info": {
   "codemirror_mode": {
    "name": "ipython",
    "version": 3
   },
   "file_extension": ".py",
   "mimetype": "text/x-python",
   "name": "python",
   "nbconvert_exporter": "python",
   "pygments_lexer": "ipython3",
   "version": "3.9.4"
  }
 },
 "nbformat": 4,
 "nbformat_minor": 5
}
