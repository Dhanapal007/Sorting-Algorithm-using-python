{
 "cells": [
  {
   "cell_type": "code",
   "execution_count": null,
   "id": "99adf798",
   "metadata": {},
   "outputs": [],
   "source": [
    "BUBBLE SORT"
   ]
  },
  {
   "cell_type": "code",
   "execution_count": 4,
   "id": "fb503cb9",
   "metadata": {},
   "outputs": [
    {
     "name": "stdout",
     "output_type": "stream",
     "text": [
      "How many numbers you want:5\n",
      "Enter the numbers:85\n",
      "Enter the numbers:87\n",
      "Enter the numbers:6\n",
      "Enter the numbers:4\n",
      "Enter the numbers:8\n",
      "unsorted list [85, 87, 6, 4, 8]\n",
      "[85, 87, 6, 4, 8]\n",
      "[85, 6, 87, 4, 8]\n",
      "[85, 6, 4, 87, 8]\n",
      "[85, 6, 4, 8, 87]\n",
      "\n",
      "[6, 85, 4, 8, 87]\n",
      "[6, 4, 85, 8, 87]\n",
      "[6, 4, 8, 85, 87]\n",
      "\n",
      "[4, 6, 8, 85, 87]\n",
      "[4, 6, 8, 85, 87]\n",
      "\n",
      "[4, 6, 8, 85, 87]\n",
      "\n",
      "sorted list [4, 6, 8, 85, 87]\n"
     ]
    }
   ],
   "source": [
    "n=int(input(\"How many numbers you want:\"))\n",
    "list=[int(input(\"Enter the numbers:\"))for i in range(n)]\n",
    "print(\"unsorted list\",list)\n",
    "for i in range(len(list)-1):\n",
    "    for j in range(len(list)-1-i):\n",
    "        if list[j]>list[j+1]:  # < symbol is orders number max to min it's also the condition \n",
    "            list[j],list[j+1]=list[j+1],list[j] #swap the minimum numbers \n",
    "            print(list)\n",
    "        else:\n",
    "            print(list)\n",
    "    print()\n",
    "print('sorted list',list)"
   ]
  },
  {
   "cell_type": "code",
   "execution_count": null,
   "id": "b5dc3cc2",
   "metadata": {},
   "outputs": [],
   "source": [
    "8\n"
   ]
  }
 ],
 "metadata": {
  "kernelspec": {
   "display_name": "Python 3 (ipykernel)",
   "language": "python",
   "name": "python3"
  },
  "language_info": {
   "codemirror_mode": {
    "name": "ipython",
    "version": 3
   },
   "file_extension": ".py",
   "mimetype": "text/x-python",
   "name": "python",
   "nbconvert_exporter": "python",
   "pygments_lexer": "ipython3",
   "version": "3.9.4"
  }
 },
 "nbformat": 4,
 "nbformat_minor": 5
}
