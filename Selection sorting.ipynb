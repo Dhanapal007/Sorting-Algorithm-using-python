{
 "cells": [
  {
   "cell_type": "code",
   "execution_count": null,
   "id": "24673ccc",
   "metadata": {},
   "outputs": [],
   "source": [
    "Selection Sorting"
   ]
  },
  {
   "cell_type": "code",
   "execution_count": 1,
   "id": "73e18d7e",
   "metadata": {},
   "outputs": [
    {
     "name": "stdout",
     "output_type": "stream",
     "text": [
      "[45, 22, 32, 7, 38, 24]\n"
     ]
    },
    {
     "data": {
      "text/plain": [
       "[7, 22, 24, 32, 38, 45]"
      ]
     },
     "execution_count": 1,
     "metadata": {},
     "output_type": "execute_result"
    }
   ],
   "source": [
    "def selection_sort(qus):\n",
    "    for i in range(len(qus) - 1):\n",
    "        m_val = i     #getting index for every value\n",
    "        for j in range(i+1, len(qus)):\n",
    "            if qus[j] < qus[m_val]:  #compare the values \n",
    "                m_val = j\n",
    "\n",
    "        if qus[i] != qus[m_val]:   #if minimum value is not equal swap the values\n",
    "            qus[i], qus[m_val] = qus[m_val], qus[i]  \n",
    "\n",
    "    return qus\n",
    "\n",
    "\n",
    "import numpy\n",
    "qus = list(numpy.random.randint(0,50,6))\n",
    "print(qus)\n",
    "selection_sort(qus)"
   ]
  }
 ],
 "metadata": {
  "kernelspec": {
   "display_name": "Python 3 (ipykernel)",
   "language": "python",
   "name": "python3"
  },
  "language_info": {
   "codemirror_mode": {
    "name": "ipython",
    "version": 3
   },
   "file_extension": ".py",
   "mimetype": "text/x-python",
   "name": "python",
   "nbconvert_exporter": "python",
   "pygments_lexer": "ipython3",
   "version": "3.9.4"
  }
 },
 "nbformat": 4,
 "nbformat_minor": 5
}
